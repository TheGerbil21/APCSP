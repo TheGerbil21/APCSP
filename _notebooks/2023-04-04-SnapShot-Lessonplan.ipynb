{
 "cells": [
  {
   "attachments": {},
   "cell_type": "markdown",
   "metadata": {},
   "source": [
    "# Guide to User Data, Image Manipulation and Get/Posting Text and Images\n",
    "- toc: true\n",
    "- badges: false\n",
    "- comments: true\n",
    "- authors: Jeffrey, Ben, Luke, Derek, Saavan, Dylan, Jagger\n",
    "- categories: [student]\n",
    "- type: ap\n",
    "- week: 28"
   ]
  },
  {
   "attachments": {},
   "cell_type": "markdown",
   "metadata": {},
   "source": [
    "## Lesson Overview\n",
    "\n",
    "Teaching how to create a User Class and POST request to a database. Create a database for images and upload images onto backend."
   ]
  },
  {
   "attachments": {},
   "cell_type": "markdown",
   "metadata": {},
   "source": [
    "## Subtopics:\n",
    "- Connecting to SQLite Database\n",
    "- Connecting to APIs\n",
    "- Basic CRUD Functions\n",
    "- Using images (possible python library to change images in some way) and uploading "
   ]
  },
  {
   "attachments": {},
   "cell_type": "markdown",
   "metadata": {},
   "source": [
    "## Lesson Plans\n",
    "- We will have a Jupyter notebooks for the class to make a copy of\n",
    "  - code segments in the notebook for people to change as we do the lesson\n",
    "  - WHEN WEBSITE IS DEPLOYED WITH USER PROFILE + CHAT ROOMS: Show class the backend and frontend and how applications talk to each other\n",
    "  - We will have questions and practice problems for people to answer out loud\n",
    "  - These questions will relate to Class/User Data, Http Requests, and Databases\n",
    "  - Extra Credit will relate to students logging into out website to blog about discoveries/what they learned about the topics taught in our lesson."

   ]
  },
  {
   "attachments": {},
   "cell_type": "markdown",
   "metadata": {},
   "source": [
    "## Plans for Homework\n",
    "- Add notes throughout the blog lesson\n",
    "- Answering questions throughout the blog lesson\n",
    "- Blogging on our website about insights for hacks\n",
    "- Ask for an example from the student connecting to a database and adding data, doing a CRUD function"
   ]
  },
  {
   "attachments": {},
   "cell_type": "markdown",
   "metadata": {},
   "source": [
    "## Grading\n",
    "- Each member of the group will get the same amount of students to grade\n",
    "- 0.5 for thorough notes/questions in the blog lesson\n",
    "- 0.4 for completing all exercises and code segments when implemented\n",
    "- 0.1 for extra credit (blog post that we defined earlier) "
   ]
  },
  {
   "attachments": {},
   "cell_type": "markdown",
   "metadata": {},
   "source": [
    "## Pair/Trio Groups\n",
    "- Jeffrey/Jagger/Dylan: Working on the database and creating the actual notebook for the lesson\n",
    "- Ben/Derek: Working on images and code segments for image manipulation and uploading\n",
    "- Luke/Saavan: Write out the lessons, notes, and questions for each topic\n"
   ]
  }
 ],
 "metadata": {
  "kernelspec": {
   "display_name": "base",
   "language": "python",
   "name": "python3"
  },
  "language_info": {
   "name": "python",
   "version": "3.9.12"
  },
  "orig_nbformat": 4
 },
 "nbformat": 4,
 "nbformat_minor": 2
}
